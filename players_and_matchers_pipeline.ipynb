{
 "cells": [
  {
   "cell_type": "markdown",
   "metadata": {},
   "source": [
    "Here we will connect 2 types of dfs:\n",
    "1. The matches db that includes the __names__ of the players\n",
    "2. The player ratings db that inclueds also the __names__ of the players\n",
    "\n",
    "We will connect via the closest string for each player in a match in order to get:\n",
    "1. player rating\n",
    "2. player age\n",
    "3. player height"
   ]
  },
  {
   "cell_type": "code",
   "execution_count": 34,
   "metadata": {},
   "outputs": [],
   "source": [
    "import pandas as pd\n",
    "import numpy as np\n",
    "from difflib import SequenceMatcher\n",
    "from bs4 import BeautifulSoup\n",
    "pd.set_option('display.max_columns', 500)\n",
    "pd.set_option('display.width', 1000)"
   ]
  },
  {
   "cell_type": "markdown",
   "metadata": {},
   "source": [
    "First we need to fix the club name issue, for exmaple Man utd in the matches db is not the same as Manchester United"
   ]
  },
  {
   "cell_type": "code",
   "execution_count": 35,
   "metadata": {},
   "outputs": [],
   "source": [
    "def extract_text_from_html(html_string):\n",
    "    soup = BeautifulSoup(html_string, 'html.parser')\n",
    "    return soup.get_text(strip=True)\n",
    "\n",
    "def fix_html_col(df, col):\n",
    "    df[col] = df[col].apply(extract_text_from_html)\n"
   ]
  },
  {
   "cell_type": "markdown",
   "metadata": {},
   "source": [
    "We will see the names of the clubs in the season 22-23"
   ]
  },
  {
   "cell_type": "markdown",
   "metadata": {},
   "source": [
    "And now we see which clubs dont have the names in the players db"
   ]
  },
  {
   "cell_type": "code",
   "execution_count": 36,
   "metadata": {},
   "outputs": [],
   "source": [
    "def show_different_names(df1, df2):\n",
    "    unique_home_team_names = set(df1['home_team_name'].unique())\n",
    "    club_names = set(df2['Club Name'].unique())\n",
    "    diff_names = unique_home_team_names.difference(club_names)\n",
    "    return diff_names\n"
   ]
  },
  {
   "cell_type": "markdown",
   "metadata": {},
   "source": [
    "processing: All we need is the full name, club, age, overall and height"
   ]
  },
  {
   "cell_type": "markdown",
   "metadata": {},
   "source": [
    "Secondly we will use the player name and club name as a key, to replace player names in the matches DB with numbers we can work with"
   ]
  },
  {
   "cell_type": "markdown",
   "metadata": {},
   "source": [
    "to be continued: after scraping seasons"
   ]
  },
  {
   "cell_type": "code",
   "execution_count": 37,
   "metadata": {},
   "outputs": [],
   "source": [
    "def find_most_similar_name(target_name, names_list, threshold=0.25):\n",
    "    similarities = [(other_name, SequenceMatcher(None, target_name, other_name).ratio()) for other_name in names_list]\n",
    "    most_similar_name, similarity_score = max(similarities, key=lambda x: x[1])\n",
    "    \n",
    "    if similarity_score >= threshold:\n",
    "        #print('found player '+most_similar_name+\" with a score of \"+str(similarity_score))\n",
    "        return most_similar_name\n",
    "    else:\n",
    "        #print(\"didn't find\", target_name)\n",
    "        return None"
   ]
  },
  {
   "cell_type": "code",
   "execution_count": 38,
   "metadata": {},
   "outputs": [],
   "source": [
    "def find_player(player_name, club_name,  df, attributes):\n",
    "    #first we filter by club name\n",
    "    temp = df[df['Club Name'] == club_name]\n",
    "\n",
    "    #Now we find the player\n",
    "    sim_name = find_most_similar_name(player_name, temp['Full Name'])\n",
    "    \n",
    "    return temp[temp['Full Name'] == sim_name].iloc[0][attributes] if sim_name else None\n"
   ]
  },
  {
   "cell_type": "markdown",
   "metadata": {},
   "source": [
    "What will be our key?\n",
    "\n",
    "Since using just the name will lead to issues (there are players with the same name) then we should also use the name AND the club as the key.\n",
    "\n",
    "How can we do it?\n",
    "\n"
   ]
  },
  {
   "cell_type": "code",
   "execution_count": 39,
   "metadata": {},
   "outputs": [],
   "source": [
    "def ratings_col(df, att_df):\n",
    "    '''\n",
    "    puts for every player their 'Overall', 'Age', 'Height(in cm)', 'Weight(in kg)'\n",
    "    for each player i we will have the column\n",
    "    HomePlayeri (if the player is on the home team)\n",
    "    AwayPlayeri (if the player is on the away team)\n",
    "    and we will use the home_team_name or away_team_name and the full name as the key (we will use find_player(player_name, club_name,  df, attributes))\n",
    "    '''\n",
    "\n",
    "    attributes = [ 'Overall', 'Age', 'Height(in cm)', 'Weight(in kg)']\n",
    "    # Iterate through each player column\n",
    "    for i in range(1, 21):\n",
    "\n",
    "        home_col = f'HomePlayer{i}'\n",
    "        away_col = f'AwayPlayer{i}'\n",
    "        if home_col in df.columns or away_col in df.columns:\n",
    "            # Add columns for home team players\n",
    "            for att in attributes:\n",
    "                df[home_col + \"_\" + att] = df.apply(\n",
    "                    lambda row: 0 if pd.isna(row[home_col]) else\n",
    "                    (find_player(row[home_col], row['home_team_name'], att_df, attributes)[att]\n",
    "                    if find_player(row[home_col], row['home_team_name'], att_df, attributes) is not None else None),\n",
    "                    axis=1\n",
    "                )\n",
    "            # df[home_col + '_Pace'] = df.apply(lambda row: 0 if pd.isna(row[home_col]) else find_player(row[home_col], row['home_team_name'], att_df, attributes)['Pace Total'] if find_player(row[home_col], row['home_team_name'], att_df, attributes) is not None else None, axis=1)\n",
    "            # df[home_col + '_Def'] = df.apply(lambda row: 0 if pd.isna(row[home_col]) else find_player(row[home_col], row['home_team_name'], att_df, attributes)['Defending Total'] if find_player(row[home_col], row['home_team_name'], att_df, attributes) is not None else None, axis=1)\n",
    "            # df[home_col + '_Pass'] = df.apply(lambda row: 0 if pd.isna(row[home_col]) else find_player(row[home_col], row['home_team_name'], att_df, attributes)['Passing Total'] if find_player(row[home_col], row['home_team_name'], att_df, attributes) is not None else None, axis=1)\n",
    "            # df[home_col + '_Physic'] = df.apply(lambda row: 0 if pd.isna(row[home_col]) else find_player(row[home_col], row['home_team_name'], att_df, attributes)['Physicality Total'] if find_player(row[home_col], row['home_team_name'], att_df, attributes) is not None else None, axis=1)\n",
    "            # df[home_col + '_Shooting'] = df.apply(lambda row: 0 if pd.isna(row[home_col]) else find_player(row[home_col], row['home_team_name'], att_df, attributes)['Shooting Total'] if find_player(row[home_col], row['home_team_name'], att_df, attributes) is not None else None, axis=1)\n",
    "            # df[home_col + '_Dribbling'] = df.apply(lambda row: 0 if pd.isna(row[home_col]) else find_player(row[home_col], row['home_team_name'], att_df, attributes)['Dribbling Total'] if find_player(row[home_col], row['home_team_name'], att_df, attributes) is not None else None, axis=1)\n",
    "            # df[home_col + '_Overall'] = df.apply(lambda row: 0 if pd.isna(row[home_col]) else find_player(row[home_col], row['home_team_name'], att_df, attributes)['Overall'] if find_player(row[home_col], row['home_team_name'], att_df, attributes) is not None else None, axis=1)\n",
    "            # df[home_col + '_Age'] = df.apply(lambda row: 0 if pd.isna(row[home_col]) else find_player(row[home_col], row['home_team_name'], att_df, attributes)['Age'] if find_player(row[home_col], row['home_team_name'], att_df, attributes) is not None else None, axis=1)\n",
    "            # df[home_col + '_Height'] = df.apply(lambda row: 0 if pd.isna(row[home_col]) else find_player(row[home_col], row['home_team_name'], att_df, attributes)['Height(in cm)'] if find_player(row[home_col], row['home_team_name'], att_df, attributes) is not None else None, axis=1)\n",
    "            # df[home_col + '_Weight'] = df.apply(lambda row: 0 if pd.isna(row[home_col]) else find_player(row[home_col], row['home_team_name'], att_df, attributes)['Weight(in kg)'] if find_player(row[home_col], row['home_team_name'], att_df, attributes) is not None else None, axis=1)\n",
    "\n",
    "            # Add columns for away team players\n",
    "            for att in attributes:\n",
    "                df[away_col + \"_\" + att] = df.apply(\n",
    "                    lambda row: 0 if pd.isna(row[away_col]) else\n",
    "                    (find_player(row[away_col], row['away_team_name'], att_df, attributes)[att]\n",
    "                    if find_player(row[away_col], row['away_team_name'], att_df, attributes) is not None else None),\n",
    "                    axis=1\n",
    "                )\n",
    "            # df[away_col + '_Pace'] = df.apply(lambda row: 0 if pd.isna(row[home_col]) else find_player(row[home_col], row['away_team_name'], att_df, attributes)['Pace Total'] if find_player(row[away_col], row['away_team_name'], att_df, attributes) is not None else None, axis=1)\n",
    "            # df[away_col + '_Def'] = df.apply(lambda row: 0 if pd.isna(row[home_col]) else find_player(row[home_col], row['away_team_name'], att_df, attributes)['Defending Total'] if find_player(row[away_col], row['away_team_name'], att_df, attributes) is not None else None, axis=1)\n",
    "            # df[away_col + '_Pass'] = df.apply(lambda row: 0 if pd.isna(row[home_col]) else find_player(row[home_col], row['away_team_name'], att_df, attributes)['Passing Total'] if find_player(row[away_col], row['away_team_name'], att_df, attributes) is not None else None, axis=1)\n",
    "            # df[away_col + '_Physic'] = df.apply(lambda row: 0 if pd.isna(row[home_col]) else find_player(row[home_col], row['away_team_name'], att_df, attributes)['Physicality Total'] if find_player(row[away_col], row['away_team_name'], att_df, attributes) is not None else None, axis=1)\n",
    "            # df[away_col + '_Shooting'] = df.apply(lambda row: 0 if pd.isna(row[home_col]) else find_player(row[home_col], row['away_team_name'], att_df, attributes)['Shooting Total'] if find_player(row[away_col], row['away_team_name'], att_df, attributes) is not None else None, axis=1)\n",
    "            # df[away_col + '_Dribbling'] = df.apply(lambda row: 0 if pd.isna(row[home_col]) else find_player(row[home_col], row['away_team_name'], att_df, attributes)['Dribbling Total'] if find_player(row[away_col], row['away_team_name'], att_df, attributes) is not None else None, axis=1)\n",
    "            # df[away_col + '_Overall'] = df.apply(lambda row: 0 if pd.isna(row[away_col]) else find_player(row[away_col], row['away_team_name'], att_df, attributes)['Overall'] if find_player(row[away_col], row['away_team_name'], att_df, attributes) is not None else None, axis=1)\n",
    "            # df[away_col + '_Age'] = df.apply(lambda row: 0 if pd.isna(row[away_col]) else find_player(row[away_col], row['away_team_name'], att_df, attributes)['Age'] if find_player(row[away_col], row['away_team_name'], att_df, attributes) is not None else None, axis=1)\n",
    "            # df[away_col + '_Height'] = df.apply(lambda row: 0 if pd.isna(row[away_col]) else find_player(row[away_col], row['away_team_name'], att_df, attributes)['Height(in cm)'] if find_player(row[away_col], row['away_team_name'], att_df, attributes) is not None else None, axis=1)\n",
    "            # df[away_col + '_Weight'] = df.apply(lambda row: 0 if pd.isna(row[away_col]) else find_player(row[away_col], row['away_team_name'], att_df, attributes)['Weight(in kg)'] if find_player(row[away_col], row['away_team_name'], att_df, attributes) is not None else None, axis=1)\n"
   ]
  },
  {
   "cell_type": "code",
   "execution_count": 40,
   "metadata": {},
   "outputs": [],
   "source": [
    "def replace_nas(df):\n",
    "    '''\n",
    "    gets df, goes to the Age column and replaces None with 18, and replaces Weight(in kg) and Height(in cm) with the mean, and overall with the min value\n",
    "    '''\n",
    "\n",
    "    # 'Dribbling Total', 'Pace Total', 'Defending Total', 'Shooting Total', 'Physicality Total', 'Passing Total' our new fatures\n",
    "    attributes = ['Overall','Height(in cm)', 'Weight(in kg)']\n",
    "    # First, deal with the None values\n",
    "    for i in range(1,21):\n",
    "        home_col = f'HomePlayer{i}'\n",
    "        away_col = f'AwayPlayer{i}'\n",
    "        if home_col in df.columns:\n",
    "            # Age assumption\n",
    "            df[home_col+\"_Age\"].fillna(18, inplace=True)\n",
    "\n",
    "            for att  in attributes: \n",
    "                non_zero_col = df[home_col+'_'+att].replace(0, None)\n",
    "                df[home_col+'_'+att].fillna(non_zero_col.min())\n",
    "        if away_col in df.columns:\n",
    "            # Age assumption\n",
    "            df[away_col+\"_Age\"].fillna(18, inplace=True)\n",
    "\n",
    "            for att  in attributes: \n",
    "                non_zero_col = df[away_col+'_'+att].replace(0, None)\n",
    "                df[away_col+'_'+att].fillna(non_zero_col.min())\n",
    "            # df[home_col+\"_Age\"].fillna(18, inplace=True)\n",
    "            \n",
    "            # # dealing with some ratings\n",
    "\n",
    "            # df[home_col+\"_Total\"].fillna(18, inplace=True)\n",
    "            # df[home_col+\"_Dribbling Total\"].fillna(df[home_col+\"_Dribbling Total\"].replace(0,None).min(), inplace=True)\n",
    "            # df[home_col+\"_Defending Total\"].fillna(df[home_col+\"_Defending Total\"].replace(0,None).min(), inplace=True)\n",
    "            # df[home_col+\"_Shooting Total\"].fillna(df[home_col+\"_Shooting Total\"].replace(0,None).min(), inplace=True)\n",
    "            # df[home_col+\"_Physicality Total\"].fillna(df[home_col+\"_Physicality Total\"].replace(0,None).min(), inplace=True)\n",
    "            # df[home_col+\"_Pace Total\"].fillna(df[home_col+\"_Pace Total\"].replace(0,None).min(), inplace=True)\n",
    "\n",
    "            # # Build assumption (ignoring zeros)\n",
    "            # non_zero_weights = df[home_col+\"_Weight(in kg)\"].replace(0, None)\n",
    "            # non_zero_heights = df[home_col+\"_Height(in cm)\"].replace(0, None)\n",
    "            # non_zero_overall = df[home_col+\"_Overall\"].replace(0, None)\n",
    "            # df[home_col+\"_Weight\"].fillna(non_zero_weights.mean(), inplace=True)\n",
    "            # df[home_col+\"_Height\"].fillna(non_zero_heights.mean(), inplace=True)\n",
    "            \n",
    "            \n",
    "            # # Ratings assumption\n",
    "            # df[home_col+\"_Overall\"].fillna(non_zero_overall.min(), inplace=True)\n",
    "            \n",
    "            # # And for away\n",
    "            # # Age assumption\n",
    "            # df[away_col+\"_Age\"].fillna(18, inplace=True)\n",
    "\n",
    "            # df[away_col+\"_Total\"].fillna(18, inplace=True)\n",
    "            # df[away_col+\"_Dribbling Total\"].fillna(df[away_col+\"_Dribbling Total\"].replace(0,None).min(), inplace=True)\n",
    "            # df[away_col+\"_Defending Total\"].fillna(df[away_col+\"_Defending Total\"].replace(0,None).min(), inplace=True)\n",
    "            # df[away_col+\"_Shooting Total\"].fillna(df[away_col+\"_Shooting Total\"].replace(0,None).min(), inplace=True)\n",
    "            # df[away_col+\"_Physicality Total\"].fillna(df[away_col+\"_Physicality Total\"].replace(0,None).min(), inplace=True)\n",
    "            # df[away_col+\"_Pace Total\"].fillna(df[away_col+\"_Pace Total\"].replace(0,None).min(), inplace=True)\n",
    "\n",
    "            # # Build assumption (ignoring zeros)\n",
    "            # non_zero_weights_away = df[away_col+\"_Weight\"].replace(0, None)\n",
    "            # non_zero_heights_away = df[away_col+\"_Height\"].replace(0, None)\n",
    "            # non_zero_overall_away = df[away_col+\"_Overall\"].replace(0, None)\n",
    "            # df[away_col+\"_Weight\"].fillna(non_zero_weights_away.mean(), inplace=True)\n",
    "            # df[away_col+\"_Height\"].fillna(non_zero_heights_away.mean(), inplace=True)\n",
    "            \n",
    "            # # Ratings assumption\n",
    "            # df[away_col+\"_Overall\"].fillna(non_zero_overall_away.min(), inplace=True)\n",
    "            \n",
    "\n",
    "    # Dealing with zero values\n",
    "    for i in range(1, 21):\n",
    "        home_col = f'HomePlayer{i}'\n",
    "        away_col = f'AwayPlayer{i}'\n",
    "        if home_col in df.columns:\n",
    "            for att in attributes:\n",
    "                df[home_col+\"_\"+att].replace(0, None, inplace=True)\n",
    "        if away_col in df.columns:\n",
    "            for att in attributes:\n",
    "                df[away_col+\"_\"+att].replace(0, None, inplace=True)\n",
    "            # df[home_col+\"_Age\"].replace(0, None, inplace=True)\n",
    "            # df[home_col+\"_Weight\"].replace(0, None, inplace=True)\n",
    "            # df[home_col+\"_Height\"].replace(0, None, inplace=True)\n",
    "            # df[home_col+\"_Overall\"].replace(0, None, inplace=True)\n",
    "            # df[away_col+\"_Dribbling Total\"].replace(0,None)\n",
    "            # df[away_col+\"_Defending Total\"].replace(0,None)\n",
    "            # df[away_col+\"_Shooting Total\"].replace(0,None)\n",
    "            # df[away_col+\"_Pace Total\"].replace(0,None)\n",
    "            # df[away_col+\"_Passing Total\"].replace(0,None)\n",
    "            # df[away_col+\"_Dribbling Total\"].replace(0,None)\n",
    "            # df[away_col+\"_Age\"].replace(0, None, inplace=True)\n",
    "            # df[away_col+\"_Weight\"].replace(0, None, inplace=True)\n",
    "            # df[away_col+\"_Height\"].replace(0, None, inplace=True)\n",
    "            # df[away_col+\"_Overall\"].replace(0, None, inplace=True)\n",
    "\n"
   ]
  },
  {
   "cell_type": "code",
   "execution_count": 41,
   "metadata": {},
   "outputs": [],
   "source": [
    "\n",
    "def set_season_cols(columns, season):\n",
    "    for c in season.columns:\n",
    "        for att in ['Overall', 'Age', 'Height(in cm)', 'Weight(in kg)']:\n",
    "            if att in c:\n",
    "                columns.append(c)\n",
    "    \n",
    "\n"
   ]
  },
  {
   "cell_type": "code",
   "execution_count": 42,
   "metadata": {},
   "outputs": [],
   "source": [
    "def create_csv(df, columns, name):\n",
    "    df[columns].to_csv(name)"
   ]
  },
  {
   "cell_type": "markdown",
   "metadata": {},
   "source": []
  },
  {
   "cell_type": "code",
   "execution_count": 43,
   "metadata": {},
   "outputs": [],
   "source": [
    "def pipeline(matches, ratings):\n",
    "    matches_df = pd.read_csv(matches+'.csv')\n",
    "    ratings_df=  pd.read_csv(ratings+'.csv')\n",
    "    ratings_df.rename(columns={'long_name' : 'Full Name', 'height_cm':'Height(in cm)',\n",
    "                          'weight_kg' : 'Weight(in kg)',\n",
    "                          'age' : 'Age','club_name' :\"Club Name\",\n",
    "                          'overall' : 'Overall', 'dribbling' : 'Dribbling Total',\n",
    "                          'pace' : 'Pace Total', 'defending' : \"Defending Total\" ,\n",
    "                          \"shooting\" : 'Shooting Total', 'physic' : 'Physicality Total',\n",
    "                          'passing' : \"Passing Total\"},inplace=True)\n",
    "    end_year = int(matches[-2:])\n",
    "    fix_html_col(matches_df, 'away_fromation')\n",
    "    fix_html_col(matches_df, 'home_formation')\n",
    "    \n",
    "    # missing_values_df = pd.DataFrame(index=ratings_df.index)\n",
    "\n",
    "    # # Iterate through each column\n",
    "    # for col in ratings_df.columns:\n",
    "    #     missing_values_df[col + '_missing'] = ratings_df[col].isnull()\n",
    "\n",
    "    # Add a new column for the sum of missing values in each row\n",
    "    #missing_values_df['total_missing'] = missing_values_df.sum(axis=1)\n",
    "\n",
    "    # Display the DataFrame with missing values information\n",
    "    #print(missing_values_df['total_missing'])\n",
    "\n",
    "    names_union = set(show_different_names(matches_df, ratings_df))\n",
    "\n",
    "    print(names_union)\n",
    "    \n",
    "    # Define a dictionary\n",
    "    names_fix = {'Man Utd': \"Manchester United\",\n",
    "             \"Man City\": 'Manchester City',\n",
    "             \"West Ham\": \"West Ham United\",\n",
    "             \"Nott'm Forest\": \"Nottingham Forest\",\n",
    "             'Spurs': \"Tottenham Hotspur\",\n",
    "             'Wolves': \"Wolverhampton Wanderers\",\n",
    "             \"Brighton and Hove Albion\": \"Brighton & Hove Albion\",\n",
    "             \"Bournemouth\": \"AFC Bournemouth\",\n",
    "             'Newcastle': 'Newcastle United',\n",
    "             'Leicester': 'Leicester City',\n",
    "             'Leeds': \"Leeds United\",\n",
    "             'Huddersfield' : 'Huddersfield Town',\n",
    "             'Swansea' : 'Swansea City',\n",
    "             'Cardiff': 'Cardiff City',\n",
    "             'Norwich' : 'Norwich City',\n",
    "             'Stoke' : 'Stoke City',\n",
    "             'West Brom' : 'West Bromwich Albion',\n",
    "             'Hull' : 'Hull City',\n",
    "             'QPR' : 'Queens Park Rangers',\n",
    "             'Sheffield Utd' : 'Sheffield United'}\n",
    "    \n",
    "\n",
    "    for name in list(names_union):\n",
    "        if name not in names_fix.keys():\n",
    "            print(\"Fix the name \"+name)\n",
    "            return\n",
    "    for key, val in names_fix.items():\n",
    "        matches_df['home_team_name'].replace(key, val, inplace=True)\n",
    "        matches_df['away_team_name'].replace(key, val, inplace=True)\n",
    "\n",
    "    # Sanity Check\n",
    "    \n",
    "\n",
    "    unique_home_team_names = pd.DataFrame(matches_df['home_team_name'].unique())\n",
    "\n",
    "\n",
    "    club_names = ratings_df['Club Name'].unique()\n",
    "\n",
    "    # Check which names in df2 are not in df1\n",
    "    diff_names = unique_home_team_names[~unique_home_team_names.isin(club_names)]\n",
    "    #print(diff_names)\n",
    "\n",
    "    att_list = ['Overall', 'Age', 'Height(in cm)', 'Weight(in kg)']\n",
    "    for att in att_list:\n",
    "        if att not in ratings_df.columns:\n",
    "            print('fix',att)\n",
    "    \n",
    "\n",
    "    # Sanity Check\n",
    "    ratings_df = ratings_df[['Full Name', 'Club Name']+ att_list]\n",
    "    ratings_col(matches_df, ratings_df)\n",
    "\n",
    "    replace_nas(matches_df)\n",
    "    matches_df['Matchweek'] = matches_df['Matchweek'].str.split(' ').str[1].astype(int)\n",
    "\n",
    "    final_cols = ['home_score', 'home_team_name', 'away_score', 'away_team_name', 'away_fromation', 'home_formation', 'home_GD_prior', 'away_GD_prior', 'home_Points_prior', 'away_Points_prior', 'Matchweek']\n",
    "    set_season_cols(final_cols, matches_df)\n",
    "    create_csv(matches_df, final_cols, 'processed Datasets/'+matches+'_proccessed.csv')"
   ]
  },
  {
   "cell_type": "code",
   "execution_count": 44,
   "metadata": {},
   "outputs": [
    {
     "name": "stderr",
     "output_type": "stream",
     "text": [
      "C:\\Users\\Yuval\\AppData\\Local\\Temp\\ipykernel_102856\\2184219997.py:3: DtypeWarning: Columns (104) have mixed types. Specify dtype option on import or set low_memory=False.\n",
      "  ratings_df=  pd.read_csv(ratings+'.csv')\n"
     ]
    },
    {
     "name": "stdout",
     "output_type": "stream",
     "text": [
      "set()\n",
      "Index(['Full Name', 'Club Name', 'Overall', 'Age', 'Height(in cm)', 'Weight(in kg)'], dtype='object')\n",
      "(380, 194)\n"
     ]
    },
    {
     "name": "stderr",
     "output_type": "stream",
     "text": [
      "C:\\Users\\Yuval\\AppData\\Local\\Temp\\ipykernel_102856\\2184219997.py:3: DtypeWarning: Columns (104) have mixed types. Specify dtype option on import or set low_memory=False.\n",
      "  ratings_df=  pd.read_csv(ratings+'.csv')\n"
     ]
    },
    {
     "name": "stdout",
     "output_type": "stream",
     "text": [
      "{'Bournemouth'}\n",
      "Index(['Full Name', 'Club Name', 'Overall', 'Age', 'Height(in cm)', 'Weight(in kg)'], dtype='object')\n",
      "(380, 194)\n",
      "{'Bournemouth'}\n",
      "Index(['Full Name', 'Club Name', 'Overall', 'Age', 'Height(in cm)', 'Weight(in kg)'], dtype='object')\n",
      "(380, 194)\n"
     ]
    },
    {
     "name": "stderr",
     "output_type": "stream",
     "text": [
      "C:\\Users\\Yuval\\AppData\\Local\\Temp\\ipykernel_102856\\2184219997.py:3: DtypeWarning: Columns (81,82,83,84,85) have mixed types. Specify dtype option on import or set low_memory=False.\n",
      "  ratings_df=  pd.read_csv(ratings+'.csv')\n"
     ]
    },
    {
     "name": "stdout",
     "output_type": "stream",
     "text": [
      "{'Brighton and Hove Albion', 'Bournemouth'}\n",
      "Index(['Full Name', 'Club Name', 'Overall', 'Age', 'Height(in cm)', 'Weight(in kg)'], dtype='object')\n",
      "(380, 194)\n",
      "{'Brighton and Hove Albion', 'Bournemouth'}\n",
      "Index(['Full Name', 'Club Name', 'Overall', 'Age', 'Height(in cm)', 'Weight(in kg)'], dtype='object')\n",
      "(380, 194)\n",
      "{'Brighton and Hove Albion', 'Bournemouth'}\n",
      "Index(['Full Name', 'Club Name', 'Overall', 'Age', 'Height(in cm)', 'Weight(in kg)'], dtype='object')\n",
      "(380, 214)\n",
      "{'Brighton and Hove Albion'}\n",
      "Index(['Full Name', 'Club Name', 'Overall', 'Age', 'Height(in cm)', 'Weight(in kg)'], dtype='object')\n",
      "(380, 214)\n"
     ]
    },
    {
     "name": "stderr",
     "output_type": "stream",
     "text": [
      "C:\\Users\\Yuval\\AppData\\Local\\Temp\\ipykernel_102856\\2184219997.py:3: DtypeWarning: Columns (25,108) have mixed types. Specify dtype option on import or set low_memory=False.\n",
      "  ratings_df=  pd.read_csv(ratings+'.csv')\n"
     ]
    },
    {
     "name": "stdout",
     "output_type": "stream",
     "text": [
      "{'Brighton and Hove Albion'}\n",
      "Index(['Full Name', 'Club Name', 'Overall', 'Age', 'Height(in cm)', 'Weight(in kg)'], dtype='object')\n",
      "(380, 214)\n",
      "{'Brighton and Hove Albion', 'Bournemouth'}\n",
      "Index(['Full Name', 'Club Name', 'Overall', 'Age', 'Height(in cm)', 'Weight(in kg)'], dtype='object')\n",
      "(380, 214)\n"
     ]
    }
   ],
   "source": [
    "\n",
    "pipeline('epl1415', 'players_15')\n",
    "pipeline('epl1516', 'players_16')\n",
    "pipeline('epl1617', 'players_17')\n",
    "pipeline('epl1718', 'players_18')\n",
    "pipeline('epl1819', 'players_19')\n",
    "pipeline('epl1920', 'players_20')\n",
    "pipeline('epl2021', 'players_21')\n",
    "pipeline('epl2122', 'players_22')\n",
    "pipeline('epl2223', 'Fifa 23 Players Data')"
   ]
  }
 ],
 "metadata": {
  "kernelspec": {
   "display_name": "base",
   "language": "python",
   "name": "python3"
  },
  "language_info": {
   "codemirror_mode": {
    "name": "ipython",
    "version": 3
   },
   "file_extension": ".py",
   "mimetype": "text/x-python",
   "name": "python",
   "nbconvert_exporter": "python",
   "pygments_lexer": "ipython3",
   "version": "3.9.13"
  }
 },
 "nbformat": 4,
 "nbformat_minor": 2
}
